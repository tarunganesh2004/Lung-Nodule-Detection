{
 "cells": [
  {
   "cell_type": "markdown",
   "metadata": {},
   "source": [
    "## Lung Nodule Detection - Model Training Notebook"
   ]
  },
  {
   "cell_type": "markdown",
   "metadata": {},
   "source": [
    "### Step 1: Dataset Splitting\n",
    "#### - We will divide the dataset into Train, Validation, and Test sets.\n",
    "#### - Ensure a balanced distribution of nodules and non-nodules."
   ]
  },
  {
   "cell_type": "code",
   "execution_count": null,
   "metadata": {},
   "outputs": [
    {
     "name": "stdout",
     "output_type": "stream",
     "text": [
      "✅ Dataset splitting completed!\n"
     ]
    }
   ],
   "source": [
    "import os\n",
    "import shutil\n",
    "import random\n",
    "\n",
    "# Paths to normalized data\n",
    "data_dir = \"processed_data_normalized\"\n",
    "output_dir = \"dataset_split\"\n",
    "os.makedirs(output_dir, exist_ok=True)\n",
    "\n",
    "# Train-Validation-Test Split Ratio\n",
    "train_ratio = 0.7\n",
    "val_ratio = 0.15\n",
    "test_ratio = 0.15\n",
    "\n",
    "# Categories (Nodules / Non-Nodules)\n",
    "categories = [\"nodules\", \"non_nodules\"]\n",
    "\n",
    "\n",
    "# Function to split data\n",
    "def split_data():\n",
    "    for category in categories:\n",
    "        category_path = os.path.join(data_dir, category)\n",
    "        files = os.listdir(category_path)\n",
    "        random.shuffle(files)\n",
    "\n",
    "        train_split = int(len(files) * train_ratio)\n",
    "        val_split = train_split + int(len(files) * val_ratio)\n",
    "\n",
    "        subsets = {\n",
    "            \"train\": files[:train_split],\n",
    "            \"val\": files[train_split:val_split],\n",
    "            \"test\": files[val_split:],\n",
    "        }\n",
    "\n",
    "        for subset, subset_files in subsets.items():\n",
    "            subset_dir = os.path.join(output_dir, subset, category)\n",
    "            os.makedirs(subset_dir, exist_ok=True)\n",
    "\n",
    "            for file in subset_files:\n",
    "                src = os.path.join(category_path, file)\n",
    "                dst = os.path.join(subset_dir, file)\n",
    "                shutil.copy(src, dst)\n",
    "\n",
    "    print(\"✅ Dataset splitting completed!\")\n",
    "\n",
    "\n",
    "split_data()\n",
    "\n",
    "# Next steps: Model building and training setup"
   ]
  }
 ],
 "metadata": {
  "kernelspec": {
   "display_name": "Python 3",
   "language": "python",
   "name": "python3"
  },
  "language_info": {
   "codemirror_mode": {
    "name": "ipython",
    "version": 3
   },
   "file_extension": ".py",
   "mimetype": "text/x-python",
   "name": "python",
   "nbconvert_exporter": "python",
   "pygments_lexer": "ipython3",
   "version": "3.11.5"
  }
 },
 "nbformat": 4,
 "nbformat_minor": 2
}
