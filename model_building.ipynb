{
 "cells": [
  {
   "cell_type": "code",
   "execution_count": 17,
   "metadata": {},
   "outputs": [],
   "source": [
    "import os\n",
    "import torch\n",
    "import torch.nn as nn\n",
    "import torch.optim as optim\n",
    "import torchvision.transforms as transforms\n",
    "import torchvision.datasets as datasets\n",
    "from torch.utils.data import DataLoader, WeightedRandomSampler\n",
    "import numpy as np"
   ]
  },
  {
   "cell_type": "code",
   "execution_count": 21,
   "metadata": {},
   "outputs": [],
   "source": [
    "from torch.utils.data import WeightedRandomSampler\n",
    "\n",
    "class PTDataset(Dataset):\n",
    "    def __init__(self, root_dir, oversample=False):\n",
    "        self.root_dir = root_dir\n",
    "        self.files = []\n",
    "        self.labels = []\n",
    "\n",
    "        for label in [\"nodules\", \"non_nodules\"]:\n",
    "            folder = os.path.join(root_dir, label)\n",
    "            for file in os.listdir(folder):\n",
    "                if file.endswith(\".pt\"):\n",
    "                    self.files.append((os.path.join(folder, file), 1 if label == \"nodules\" else 0))\n",
    "                    self.labels.append(1 if label == \"nodules\" else 0)\n",
    "\n",
    "        # Oversampling to balance classes\n",
    "        if oversample:\n",
    "            class_counts = torch.bincount(torch.tensor(self.labels))\n",
    "            class_weights = 1.0 / class_counts.float()\n",
    "            sample_weights = [class_weights[label] for _, label in self.files]\n",
    "            self.sampler = WeightedRandomSampler(sample_weights, len(self.files), replacement=True)\n",
    "        else:\n",
    "            self.sampler = None\n",
    "\n",
    "    def __len__(self):\n",
    "        return len(self.files)\n",
    "\n",
    "    def __getitem__(self, idx):\n",
    "        file_path, label = self.files[idx]\n",
    "        tensor_image = torch.load(file_path)  # Load .pt file\n",
    "        return tensor_image, torch.tensor(label, dtype=torch.long)\n"
   ]
  },
  {
   "cell_type": "code",
   "execution_count": 22,
   "metadata": {},
   "outputs": [
    {
     "name": "stdout",
     "output_type": "stream",
     "text": [
      "✅ Data loaders ready with oversampling applied!\n"
     ]
    }
   ],
   "source": [
    "# Paths\n",
    "data_dir = \"dataset_split\"\n",
    "batch_size = 32\n",
    "\n",
    "# Datasets\n",
    "train_dataset = PTDataset(os.path.join(data_dir, \"train\"), oversample=True)\n",
    "val_dataset = PTDataset(os.path.join(data_dir, \"val\"))\n",
    "test_dataset = PTDataset(os.path.join(data_dir, \"test\"))\n",
    "\n",
    "# Dataloaders\n",
    "dataloaders = {\n",
    "    \"train\": DataLoader(\n",
    "        train_dataset,\n",
    "        batch_size=batch_size,\n",
    "        shuffle=False,\n",
    "        sampler=train_dataset.sampler,\n",
    "    ),\n",
    "    \"val\": DataLoader(val_dataset, batch_size=batch_size, shuffle=False),\n",
    "    \"test\": DataLoader(test_dataset, batch_size=batch_size, shuffle=False),\n",
    "}\n",
    "\n",
    "print(\"✅ Data loaders ready with oversampling applied!\")"
   ]
  },
  {
   "cell_type": "code",
   "execution_count": 26,
   "metadata": {},
   "outputs": [],
   "source": [
    "# from timm import create_model\n",
    "\n",
    "# # Load Swin Transformer Model\n",
    "# device = torch.device(\"cuda\" if torch.cuda.is_available() else \"cpu\")\n",
    "# model = create_model(\"swin_tiny_patch4_window7_224\", pretrained=True, num_classes=2)\n",
    "# model.to(device)\n",
    "\n",
    "# # Loss Function (Weighted)\n",
    "# criterion = nn.CrossEntropyLoss(weight=class_weights.to(device))\n",
    "\n",
    "# # Optimizer\n",
    "# optimizer = optim.Adam(model.parameters(), lr=0.0001)"
   ]
  },
  {
   "cell_type": "code",
   "execution_count": 25,
   "metadata": {},
   "outputs": [],
   "source": [
    "def train_model(model, dataloaders, criterion, optimizer, num_epochs=10):\n",
    "    model.train()\n",
    "    for epoch in range(num_epochs):\n",
    "        running_loss = 0.0\n",
    "        correct = 0\n",
    "        total = 0\n",
    "\n",
    "        for inputs, labels in dataloaders[\"train\"]:\n",
    "            inputs, labels = inputs.to(device), labels.to(device)\n",
    "            optimizer.zero_grad()\n",
    "            outputs = model(inputs)\n",
    "            loss = criterion(outputs, labels)\n",
    "            loss.backward()\n",
    "            optimizer.step()\n",
    "\n",
    "            running_loss += loss.item()\n",
    "            _, predicted = outputs.max(1)\n",
    "            correct += (predicted == labels).sum().item()\n",
    "            total += labels.size(0)\n",
    "\n",
    "        epoch_loss = running_loss / len(dataloaders[\"train\"])\n",
    "        epoch_acc = correct / total\n",
    "        print(\n",
    "            f\"Epoch {epoch + 1}/{num_epochs}, Loss: {epoch_loss:.4f}, Accuracy: {epoch_acc:.4f}\"\n",
    "        )\n",
    "\n",
    "    print(\"✅ Training complete!\")\n"
   ]
  },
  {
   "cell_type": "code",
   "execution_count": 27,
   "metadata": {},
   "outputs": [
    {
     "name": "stdout",
     "output_type": "stream",
     "text": [
      "Epoch 1/10, Loss: 0.6393, Accuracy: 0.6728\n",
      "Epoch 2/10, Loss: 0.2323, Accuracy: 0.9228\n",
      "Epoch 3/10, Loss: 0.0290, Accuracy: 0.9938\n",
      "Epoch 4/10, Loss: 0.0059, Accuracy: 1.0000\n",
      "Epoch 5/10, Loss: 0.0032, Accuracy: 1.0000\n",
      "Epoch 6/10, Loss: 0.0011, Accuracy: 1.0000\n",
      "Epoch 7/10, Loss: 0.0006, Accuracy: 1.0000\n",
      "Epoch 8/10, Loss: 0.0009, Accuracy: 1.0000\n",
      "Epoch 9/10, Loss: 0.0009, Accuracy: 1.0000\n",
      "Epoch 10/10, Loss: 0.0007, Accuracy: 1.0000\n",
      "✅ Training complete!\n"
     ]
    }
   ],
   "source": [
    "# Set device\n",
    "device = torch.device(\"cuda\" if torch.cuda.is_available() else \"cpu\")\n",
    "model = model.to(device)\n",
    "\n",
    "# Define loss & optimizer\n",
    "criterion = nn.CrossEntropyLoss()\n",
    "optimizer = torch.optim.Adam(model.parameters(), lr=1e-4)\n",
    "\n",
    "# Train the model\n",
    "train_model(model, dataloaders, criterion, optimizer, num_epochs=10)"
   ]
  },
  {
   "cell_type": "code",
   "execution_count": 28,
   "metadata": {},
   "outputs": [
    {
     "name": "stdout",
     "output_type": "stream",
     "text": [
      "\n",
      "📊 Validation Classification Report:\n",
      "\n",
      "              precision    recall  f1-score   support\n",
      "\n",
      "  Non-Nodule       0.00      0.00      0.00         3\n",
      "      Nodule       0.96      0.98      0.97        66\n",
      "\n",
      "    accuracy                           0.94        69\n",
      "   macro avg       0.48      0.49      0.49        69\n",
      "weighted avg       0.91      0.94      0.93        69\n",
      "\n",
      "\n",
      "📊 Test Classification Report:\n",
      "\n",
      "              precision    recall  f1-score   support\n",
      "\n",
      "  Non-Nodule       0.00      0.00      0.00         4\n",
      "      Nodule       0.94      1.00      0.97        66\n",
      "\n",
      "    accuracy                           0.94        70\n",
      "   macro avg       0.47      0.50      0.49        70\n",
      "weighted avg       0.89      0.94      0.92        70\n",
      "\n"
     ]
    },
    {
     "name": "stderr",
     "output_type": "stream",
     "text": [
      "c:\\Users\\emada\\AppData\\Local\\Programs\\Python\\Python311\\Lib\\site-packages\\sklearn\\metrics\\_classification.py:1565: UndefinedMetricWarning: Precision is ill-defined and being set to 0.0 in labels with no predicted samples. Use `zero_division` parameter to control this behavior.\n",
      "  _warn_prf(average, modifier, f\"{metric.capitalize()} is\", len(result))\n",
      "c:\\Users\\emada\\AppData\\Local\\Programs\\Python\\Python311\\Lib\\site-packages\\sklearn\\metrics\\_classification.py:1565: UndefinedMetricWarning: Precision is ill-defined and being set to 0.0 in labels with no predicted samples. Use `zero_division` parameter to control this behavior.\n",
      "  _warn_prf(average, modifier, f\"{metric.capitalize()} is\", len(result))\n",
      "c:\\Users\\emada\\AppData\\Local\\Programs\\Python\\Python311\\Lib\\site-packages\\sklearn\\metrics\\_classification.py:1565: UndefinedMetricWarning: Precision is ill-defined and being set to 0.0 in labels with no predicted samples. Use `zero_division` parameter to control this behavior.\n",
      "  _warn_prf(average, modifier, f\"{metric.capitalize()} is\", len(result))\n"
     ]
    }
   ],
   "source": [
    "from sklearn.metrics import classification_report\n",
    "\n",
    "\n",
    "def evaluate_model(model, dataloader, dataset_type=\"Validation\"):\n",
    "    model.eval()\n",
    "    all_preds = []\n",
    "    all_labels = []\n",
    "\n",
    "    with torch.no_grad():\n",
    "        for inputs, labels in dataloader:\n",
    "            inputs, labels = inputs.to(device), labels.to(device)\n",
    "            outputs = model(inputs)\n",
    "            _, preds = torch.max(outputs, 1)\n",
    "            all_preds.extend(preds.cpu().numpy())\n",
    "            all_labels.extend(labels.cpu().numpy())\n",
    "\n",
    "    print(f\"\\n📊 {dataset_type} Classification Report:\\n\")\n",
    "    print(\n",
    "        classification_report(\n",
    "            all_labels, all_preds, target_names=[\"Non-Nodule\", \"Nodule\"]\n",
    "        )\n",
    "    )\n",
    "\n",
    "\n",
    "# Evaluate on validation & test sets\n",
    "evaluate_model(model, dataloaders[\"val\"], \"Validation\")\n",
    "evaluate_model(model, dataloaders[\"test\"], \"Test\")"
   ]
  }
 ],
 "metadata": {
  "language_info": {
   "name": "python"
  }
 },
 "nbformat": 4,
 "nbformat_minor": 2
}
