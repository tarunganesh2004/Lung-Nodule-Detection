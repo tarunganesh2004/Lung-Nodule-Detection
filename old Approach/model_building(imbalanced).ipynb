{
 "cells": [
  {
   "cell_type": "markdown",
   "metadata": {},
   "source": [
    "## Lung Nodule Detection - Model Training Notebook"
   ]
  },
  {
   "cell_type": "markdown",
   "metadata": {},
   "source": [
    "Step 1: Dataset Splitting\n",
    "\n",
    " We will divide the dataset into Train, Validation, and Test sets.\n",
    " \n",
    " Ensure a balanced distribution of nodules and non-nodules."
   ]
  },
  {
   "cell_type": "code",
   "execution_count": null,
   "metadata": {},
   "outputs": [
    {
     "name": "stdout",
     "output_type": "stream",
     "text": [
      "✅ Dataset splitting completed!\n"
     ]
    }
   ],
   "source": [
    "import os\n",
    "import shutil\n",
    "import random\n",
    "\n",
    "# Paths to normalized data\n",
    "data_dir = \"processed_data_normalized\"\n",
    "output_dir = \"dataset_split\"\n",
    "os.makedirs(output_dir, exist_ok=True)\n",
    "\n",
    "# Train-Validation-Test Split Ratio\n",
    "train_ratio = 0.7\n",
    "val_ratio = 0.15\n",
    "test_ratio = 0.15\n",
    "\n",
    "# Categories (Nodules / Non-Nodules)\n",
    "categories = [\"nodules\", \"non_nodules\"]\n",
    "\n",
    "\n",
    "# Function to split data\n",
    "def split_data():\n",
    "    for category in categories:\n",
    "        category_path = os.path.join(data_dir, category)\n",
    "        files = os.listdir(category_path)\n",
    "        random.shuffle(files)\n",
    "\n",
    "        train_split = int(len(files) * train_ratio)\n",
    "        val_split = train_split + int(len(files) * val_ratio)\n",
    "\n",
    "        subsets = {\n",
    "            \"train\": files[:train_split],\n",
    "            \"val\": files[train_split:val_split],\n",
    "            \"test\": files[val_split:],\n",
    "        }\n",
    "\n",
    "        for subset, subset_files in subsets.items():\n",
    "            subset_dir = os.path.join(output_dir, subset, category)\n",
    "            os.makedirs(subset_dir, exist_ok=True)\n",
    "\n",
    "            for file in subset_files:\n",
    "                src = os.path.join(category_path, file)\n",
    "                dst = os.path.join(subset_dir, file)\n",
    "                shutil.copy(src, dst)\n",
    "\n",
    "    print(\"✅ Dataset splitting completed!\")\n",
    "\n",
    "\n",
    "split_data()\n",
    "\n",
    "# Next steps: Model building and training setup"
   ]
  },
  {
   "cell_type": "code",
   "execution_count": 10,
   "metadata": {},
   "outputs": [],
   "source": [
    "# ✅ 2️⃣ Custom Dataset Class for .pt Files\n",
    "import torch\n",
    "from torch.utils.data import Dataset, DataLoader\n",
    "\n",
    "\n",
    "class LungNoduleDataset(Dataset):\n",
    "    def __init__(self, root_dir):\n",
    "        self.root_dir = root_dir\n",
    "        self.samples = []\n",
    "\n",
    "        for category in [\"nodules\", \"non_nodules\"]:\n",
    "            category_path = os.path.join(root_dir, category)\n",
    "            if os.path.exists(category_path):\n",
    "                for file in os.listdir(category_path):\n",
    "                    if file.endswith(\".pt\"):  # Load only .pt files\n",
    "                        self.samples.append(\n",
    "                            (\n",
    "                                os.path.join(category_path, file),\n",
    "                                0 if category == \"non_nodules\" else 1,\n",
    "                            )\n",
    "                        )\n",
    "\n",
    "    def __len__(self):\n",
    "        return len(self.samples)\n",
    "\n",
    "    def __getitem__(self, idx):\n",
    "        file_path, label = self.samples[idx]\n",
    "        image_tensor = torch.load(file_path)  # Load .pt file\n",
    "        return image_tensor, torch.tensor(label, dtype=torch.long)"
   ]
  },
  {
   "cell_type": "code",
   "execution_count": 11,
   "metadata": {},
   "outputs": [
    {
     "name": "stdout",
     "output_type": "stream",
     "text": [
      "✅ Data loaders are ready!\n"
     ]
    }
   ],
   "source": [
    "batch_size = 32\n",
    "\n",
    "dataloaders = {\n",
    "    \"train\": DataLoader(\n",
    "        LungNoduleDataset(os.path.join(\"dataset_split\", \"train\")),\n",
    "        batch_size=batch_size,\n",
    "        shuffle=True,\n",
    "    ),\n",
    "    \"val\": DataLoader(\n",
    "        LungNoduleDataset(os.path.join(\"dataset_split\", \"val\")),\n",
    "        batch_size=batch_size,\n",
    "        shuffle=False,\n",
    "    ),\n",
    "    \"test\": DataLoader(\n",
    "        LungNoduleDataset(os.path.join(\"dataset_split\", \"test\")),\n",
    "        batch_size=batch_size,\n",
    "        shuffle=False,\n",
    "    ),\n",
    "}\n",
    "\n",
    "print(\"✅ Data loaders are ready!\")"
   ]
  },
  {
   "cell_type": "code",
   "execution_count": 1,
   "metadata": {},
   "outputs": [
    {
     "name": "stderr",
     "output_type": "stream",
     "text": [
      "c:\\Users\\emada\\AppData\\Local\\Programs\\Python\\Python311\\Lib\\site-packages\\torch\\utils\\_pytree.py:185: FutureWarning: optree is installed but the version is too old to support PyTorch Dynamo in C++ pytree. C++ pytree support is disabled. Please consider upgrading optree using `python3 -m pip install --upgrade 'optree>=0.13.0'`.\n",
      "  warnings.warn(\n",
      "c:\\Users\\emada\\AppData\\Local\\Programs\\Python\\Python311\\Lib\\site-packages\\tqdm\\auto.py:21: TqdmWarning: IProgress not found. Please update jupyter and ipywidgets. See https://ipywidgets.readthedocs.io/en/stable/user_install.html\n",
      "  from .autonotebook import tqdm as notebook_tqdm\n"
     ]
    }
   ],
   "source": [
    "import torch\n",
    "import torch.nn as nn\n",
    "import torch.optim as optim\n",
    "import timm\n",
    "from torch.utils.data import DataLoader, Dataset\n",
    "from torchvision import transforms"
   ]
  },
  {
   "cell_type": "code",
   "execution_count": 12,
   "metadata": {},
   "outputs": [
    {
     "name": "stdout",
     "output_type": "stream",
     "text": [
      "✅ Model loaded and ready for training!\n"
     ]
    }
   ],
   "source": [
    "import timm\n",
    "import torch.nn as nn\n",
    "\n",
    "# Load Swin Transformer model\n",
    "model = timm.create_model(\n",
    "    \"swin_tiny_patch4_window7_224\", pretrained=True, num_classes=2\n",
    ")\n",
    "device = torch.device(\"cuda\" if torch.cuda.is_available() else \"cpu\")\n",
    "model.to(device)\n",
    "\n",
    "# Loss function and optimizer\n",
    "criterion = nn.CrossEntropyLoss()\n",
    "optimizer = torch.optim.Adam(model.parameters(), lr=1e-4)\n",
    "\n",
    "print(\"✅ Model loaded and ready for training!\")"
   ]
  },
  {
   "cell_type": "code",
   "execution_count": 13,
   "metadata": {},
   "outputs": [
    {
     "name": "stdout",
     "output_type": "stream",
     "text": [
      "Epoch 1/10, Loss: 0.2599, Accuracy: 0.9414\n",
      "Epoch 2/10, Loss: 0.1827, Accuracy: 0.9506\n",
      "Epoch 3/10, Loss: 0.2457, Accuracy: 0.9506\n",
      "Epoch 4/10, Loss: 0.2020, Accuracy: 0.9506\n",
      "Epoch 5/10, Loss: 0.1931, Accuracy: 0.9506\n",
      "Epoch 6/10, Loss: 0.2365, Accuracy: 0.9506\n",
      "Epoch 7/10, Loss: 0.1576, Accuracy: 0.9506\n",
      "Epoch 8/10, Loss: 0.2125, Accuracy: 0.9506\n",
      "Epoch 9/10, Loss: 0.1702, Accuracy: 0.9506\n",
      "Epoch 10/10, Loss: 0.1083, Accuracy: 0.9599\n",
      "✅ Training complete!\n"
     ]
    }
   ],
   "source": [
    "def train_model(model, dataloaders, criterion, optimizer, num_epochs=10):\n",
    "    model.train()\n",
    "    for epoch in range(num_epochs):\n",
    "        running_loss = 0.0\n",
    "        correct = 0\n",
    "        total = 0\n",
    "\n",
    "        for inputs, labels in dataloaders[\"train\"]:\n",
    "            inputs, labels = inputs.to(device), labels.to(device)\n",
    "            optimizer.zero_grad()\n",
    "            outputs = model(inputs)\n",
    "            loss = criterion(outputs, labels)\n",
    "            loss.backward()\n",
    "            optimizer.step()\n",
    "\n",
    "            running_loss += loss.item()\n",
    "            _, predicted = outputs.max(1)\n",
    "            correct += (predicted == labels).sum().item()\n",
    "            total += labels.size(0)\n",
    "\n",
    "        epoch_loss = running_loss / len(dataloaders[\"train\"])\n",
    "        epoch_acc = correct / total\n",
    "        print(\n",
    "            f\"Epoch {epoch + 1}/{num_epochs}, Loss: {epoch_loss:.4f}, Accuracy: {epoch_acc:.4f}\"\n",
    "        )\n",
    "\n",
    "    print(\"✅ Training complete!\")\n",
    "\n",
    "\n",
    "# Train the model\n",
    "train_model(model, dataloaders, criterion, optimizer, num_epochs=10)"
   ]
  },
  {
   "cell_type": "markdown",
   "metadata": {},
   "source": [
    "### Evaluation"
   ]
  },
  {
   "cell_type": "code",
   "execution_count": 14,
   "metadata": {},
   "outputs": [
    {
     "name": "stdout",
     "output_type": "stream",
     "text": [
      "✅ Validation Accuracy: 0.9565\n",
      "✅ Test Accuracy: 0.9429\n"
     ]
    }
   ],
   "source": [
    "# ✅ 1️⃣ Validation & Test Evaluation\n",
    "\n",
    "import torch.nn.functional as F\n",
    "\n",
    "\n",
    "def evaluate_model(model, dataloader, dataset_type=\"Validation\"):\n",
    "    model.eval()\n",
    "    correct = 0\n",
    "    total = 0\n",
    "    all_labels = []\n",
    "    all_preds = []\n",
    "\n",
    "    with torch.no_grad():\n",
    "        for inputs, labels in dataloader:\n",
    "            inputs, labels = inputs.to(device), labels.to(device)\n",
    "            outputs = model(inputs)\n",
    "            _, predicted = outputs.max(1)\n",
    "\n",
    "            correct += (predicted == labels).sum().item()\n",
    "            total += labels.size(0)\n",
    "\n",
    "            all_labels.extend(labels.cpu().numpy())\n",
    "            all_preds.extend(predicted.cpu().numpy())\n",
    "\n",
    "    accuracy = correct / total\n",
    "    print(f\"✅ {dataset_type} Accuracy: {accuracy:.4f}\")\n",
    "\n",
    "    return all_labels, all_preds\n",
    "\n",
    "\n",
    "# Evaluate on validation and test sets\n",
    "val_labels, val_preds = evaluate_model(model, dataloaders[\"val\"], \"Validation\")\n",
    "test_labels, test_preds = evaluate_model(model, dataloaders[\"test\"], \"Test\")"
   ]
  },
  {
   "cell_type": "code",
   "execution_count": 15,
   "metadata": {},
   "outputs": [
    {
     "data": {
      "image/png": "[encoded data removed]",
      "text/plain": [
       "<Figure size 500x400 with 2 Axes>"
      ]
     },
     "metadata": {},
     "output_type": "display_data"
    },
    {
     "data": {
      "image/png": "[encoded data removed]",
      "text/plain": [
       "<Figure size 500x400 with 2 Axes>"
      ]
     },
     "metadata": {},
     "output_type": "display_data"
    },
    {
     "name": "stdout",
     "output_type": "stream",
     "text": [
      "📊 Validation Classification Report:\n",
      "               precision    recall  f1-score   support\n",
      "\n",
      "  Non-Nodule       0.00      0.00      0.00         3\n",
      "      Nodule       0.96      1.00      0.98        66\n",
      "\n",
      "    accuracy                           0.96        69\n",
      "   macro avg       0.48      0.50      0.49        69\n",
      "weighted avg       0.91      0.96      0.94        69\n",
      "\n",
      "📊 Test Classification Report:\n",
      "               precision    recall  f1-score   support\n",
      "\n",
      "  Non-Nodule       0.00      0.00      0.00         4\n",
      "      Nodule       0.94      1.00      0.97        66\n",
      "\n",
      "    accuracy                           0.94        70\n",
      "   macro avg       0.47      0.50      0.49        70\n",
      "weighted avg       0.89      0.94      0.92        70\n",
      "\n"
     ]
    },
    {
     "name": "stderr",
     "output_type": "stream",
     "text": [
      "c:\\Users\\emada\\AppData\\Local\\Programs\\Python\\Python311\\Lib\\site-packages\\sklearn\\metrics\\_classification.py:1565: UndefinedMetricWarning: Precision is ill-defined and being set to 0.0 in labels with no predicted samples. Use `zero_division` parameter to control this behavior.\n",
      "  _warn_prf(average, modifier, f\"{metric.capitalize()} is\", len(result))\n",
      "c:\\Users\\emada\\AppData\\Local\\Programs\\Python\\Python311\\Lib\\site-packages\\sklearn\\metrics\\_classification.py:1565: UndefinedMetricWarning: Precision is ill-defined and being set to 0.0 in labels with no predicted samples. Use `zero_division` parameter to control this behavior.\n",
      "  _warn_prf(average, modifier, f\"{metric.capitalize()} is\", len(result))\n",
      "c:\\Users\\emada\\AppData\\Local\\Programs\\Python\\Python311\\Lib\\site-packages\\sklearn\\metrics\\_classification.py:1565: UndefinedMetricWarning: Precision is ill-defined and being set to 0.0 in labels with no predicted samples. Use `zero_division` parameter to control this behavior.\n",
      "  _warn_prf(average, modifier, f\"{metric.capitalize()} is\", len(result))\n",
      "c:\\Users\\emada\\AppData\\Local\\Programs\\Python\\Python311\\Lib\\site-packages\\sklearn\\metrics\\_classification.py:1565: UndefinedMetricWarning: Precision is ill-defined and being set to 0.0 in labels with no predicted samples. Use `zero_division` parameter to control this behavior.\n",
      "  _warn_prf(average, modifier, f\"{metric.capitalize()} is\", len(result))\n",
      "c:\\Users\\emada\\AppData\\Local\\Programs\\Python\\Python311\\Lib\\site-packages\\sklearn\\metrics\\_classification.py:1565: UndefinedMetricWarning: Precision is ill-defined and being set to 0.0 in labels with no predicted samples. Use `zero_division` parameter to control this behavior.\n",
      "  _warn_prf(average, modifier, f\"{metric.capitalize()} is\", len(result))\n",
      "c:\\Users\\emada\\AppData\\Local\\Programs\\Python\\Python311\\Lib\\site-packages\\sklearn\\metrics\\_classification.py:1565: UndefinedMetricWarning: Precision is ill-defined and being set to 0.0 in labels with no predicted samples. Use `zero_division` parameter to control this behavior.\n",
      "  _warn_prf(average, modifier, f\"{metric.capitalize()} is\", len(result))\n"
     ]
    }
   ],
   "source": [
    "# ✅ 2️⃣ Performance Metrics (Confusion Matrix, ROC Curve, Precision-Recall)\n",
    "import matplotlib.pyplot as plt\n",
    "import seaborn as sns\n",
    "from sklearn.metrics import confusion_matrix, classification_report, roc_curve, auc\n",
    "\n",
    "\n",
    "# Confusion Matrix\n",
    "def plot_confusion_matrix(y_true, y_pred, dataset_type=\"Validation\"):\n",
    "    cm = confusion_matrix(y_true, y_pred)\n",
    "    plt.figure(figsize=(5, 4))\n",
    "    sns.heatmap(\n",
    "        cm,\n",
    "        annot=True,\n",
    "        fmt=\"d\",\n",
    "        cmap=\"Blues\",\n",
    "        xticklabels=[\"Non-Nodule\", \"Nodule\"],\n",
    "        yticklabels=[\"Non-Nodule\", \"Nodule\"],\n",
    "    )\n",
    "    plt.xlabel(\"Predicted Label\")\n",
    "    plt.ylabel(\"True Label\")\n",
    "    plt.title(f\"{dataset_type} Confusion Matrix\")\n",
    "    plt.show()\n",
    "\n",
    "\n",
    "# Plot confusion matrices\n",
    "plot_confusion_matrix(val_labels, val_preds, \"Validation\")\n",
    "plot_confusion_matrix(test_labels, test_preds, \"Test\")\n",
    "\n",
    "# Classification Report\n",
    "print(\n",
    "    \"📊 Validation Classification Report:\\n\",\n",
    "    classification_report(val_labels, val_preds, target_names=[\"Non-Nodule\", \"Nodule\"]),\n",
    ")\n",
    "print(\n",
    "    \"📊 Test Classification Report:\\n\",\n",
    "    classification_report(\n",
    "        test_labels, test_preds, target_names=[\"Non-Nodule\", \"Nodule\"]\n",
    "    ),\n",
    ")"
   ]
  },
  {
   "cell_type": "code",
   "execution_count": 16,
   "metadata": {},
   "outputs": [
    {
     "name": "stdout",
     "output_type": "stream",
     "text": [
      "Train - nodules: 308 images\n",
      "Train - non_nodules: 16 images\n",
      "Val - nodules: 66 images\n",
      "Val - non_nodules: 3 images\n",
      "Test - nodules: 66 images\n",
      "Test - non_nodules: 4 images\n"
     ]
    }
   ],
   "source": [
    "from collections import Counter\n",
    "import os\n",
    "\n",
    "\n",
    "def count_images_in_folders(base_dir):\n",
    "    for split in [\"train\", \"val\", \"test\"]:\n",
    "        for category in [\"nodules\", \"non_nodules\"]:\n",
    "            folder = os.path.join(base_dir, split, category)\n",
    "            count = len(os.listdir(folder))\n",
    "            print(f\"{split.capitalize()} - {category}: {count} images\")\n",
    "\n",
    "\n",
    "count_images_in_folders(\"dataset_split\")"
   ]
  }
 ],
 "metadata": {
  "kernelspec": {
   "display_name": "Python 3",
   "language": "python",
   "name": "python3"
  },
  "language_info": {
   "codemirror_mode": {
    "name": "ipython",
    "version": 3
   },
   "file_extension": ".py",
   "mimetype": "text/x-python",
   "name": "python",
   "nbconvert_exporter": "python",
   "pygments_lexer": "ipython3",
   "version": "3.11.5"
  }
 },
 "nbformat": 4,
 "nbformat_minor": 2
}
