{
 "cells": [
  {
   "cell_type": "code",
   "execution_count": 3,
   "metadata": {},
   "outputs": [
    {
     "name": "stdout",
     "output_type": "stream",
     "text": [
      "✅ Dataset splitting completed!\n"
     ]
    }
   ],
   "source": [
    "import os\n",
    "import shutil\n",
    "import random\n",
    "\n",
    "# Paths to normalized data\n",
    "data_dir = \"processed_data_normalized\"\n",
    "output_dir = \"dataset_split\"\n",
    "os.makedirs(output_dir, exist_ok=True)\n",
    "\n",
    "# Train-Validation-Test Split Ratio\n",
    "train_ratio = 0.7\n",
    "val_ratio = 0.15\n",
    "test_ratio = 0.15\n",
    "\n",
    "# Categories (Nodules / Non-Nodules)\n",
    "categories = [\"nodules\", \"non_nodules\"]\n",
    "\n",
    "\n",
    "# Function to split data (Balanced)\n",
    "def split_data():\n",
    "    for category in categories:\n",
    "        category_path = os.path.join(data_dir, category)\n",
    "        files = os.listdir(category_path)\n",
    "        random.shuffle(files)\n",
    "\n",
    "        train_split = int(len(files) * train_ratio)\n",
    "        val_split = train_split + int(len(files) * val_ratio)\n",
    "\n",
    "        subsets = {\n",
    "            \"train\": files[:train_split],\n",
    "            \"val\": files[train_split:val_split],\n",
    "            \"test\": files[val_split:],\n",
    "        }\n",
    "\n",
    "        for subset, subset_files in subsets.items():\n",
    "            subset_dir = os.path.join(output_dir, subset, category)\n",
    "            os.makedirs(subset_dir, exist_ok=True)\n",
    "\n",
    "            for file in subset_files:\n",
    "                src = os.path.join(category_path, file)\n",
    "                dst = os.path.join(subset_dir, file)\n",
    "                shutil.copy(src, dst)\n",
    "\n",
    "    print(\"✅ Dataset splitting completed!\")\n",
    "\n",
    "\n",
    "split_data()"
   ]
  },
  {
   "cell_type": "code",
   "execution_count": 4,
   "metadata": {},
   "outputs": [
    {
     "name": "stdout",
     "output_type": "stream",
     "text": [
      "Train - nodules: 308 images\n",
      "Train - non_nodules: 16 images\n",
      "Val - nodules: 66 images\n",
      "Val - non_nodules: 3 images\n",
      "Test - nodules: 66 images\n",
      "Test - non_nodules: 4 images\n"
     ]
    }
   ],
   "source": [
    "from collections import Counter\n",
    "import os\n",
    "\n",
    "\n",
    "def count_images_in_folders(base_dir):\n",
    "    for split in [\"train\", \"val\", \"test\"]:\n",
    "        for category in [\"nodules\", \"non_nodules\"]:\n",
    "            folder = os.path.join(base_dir, split, category)\n",
    "            count = len(os.listdir(folder))\n",
    "            print(f\"{split.capitalize()} - {category}: {count} images\")\n",
    "\n",
    "\n",
    "count_images_in_folders(\"dataset_split\")"
   ]
  }
 ],
 "metadata": {
  "kernelspec": {
   "display_name": "Python 3",
   "language": "python",
   "name": "python3"
  },
  "language_info": {
   "codemirror_mode": {
    "name": "ipython",
    "version": 3
   },
   "file_extension": ".py",
   "mimetype": "text/x-python",
   "name": "python",
   "nbconvert_exporter": "python",
   "pygments_lexer": "ipython3",
   "version": "3.11.5"
  }
 },
 "nbformat": 4,
 "nbformat_minor": 2
}
