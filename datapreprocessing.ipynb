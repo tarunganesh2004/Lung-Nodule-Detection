{
 "cells": [
  {
   "cell_type": "code",
   "execution_count": 1,
   "metadata": {},
   "outputs": [
    {
     "name": "stdout",
     "output_type": "stream",
     "text": [
      "📌 Metadata Head:\n",
      "           case_id               image_id projection findings\n",
      "0  LIDC-IDRI-0001  LIDC-IDRI-0001-000001    Frontal  Nodules\n",
      "1  LIDC-IDRI-0001  LIDC-IDRI-0001-000002    Lateral  Nodules\n",
      "2  LIDC-IDRI-0003  LIDC-IDRI-0003-000001    Frontal  Nodules\n",
      "3  LIDC-IDRI-0003  LIDC-IDRI-0003-000002    Lateral  Nodules\n",
      "4  LIDC-IDRI-0004  LIDC-IDRI-0004-000001    Frontal  Nodules\n",
      "\n",
      "📌 Missing Values:\n",
      " case_id        0\n",
      "image_id       0\n",
      "projection     0\n",
      "findings      23\n",
      "dtype: int64\n",
      "\n",
      "📌 Findings Distribution:\n",
      " findings\n",
      "Nodules    440\n",
      "Name: count, dtype: int64\n"
     ]
    }
   ],
   "source": [
    "import pandas as pd\n",
    "metadata_path='dataset/lidc_metadata.csv'\n",
    "\n",
    "df = pd.read_csv(metadata_path)\n",
    "\n",
    "# Display the first few rows\n",
    "print(\"📌 Metadata Head:\\n\", df.head())\n",
    "\n",
    "# Check for missing values\n",
    "print(\"\\n📌 Missing Values:\\n\", df.isnull().sum())\n",
    "\n",
    "# Analyze label distribution\n",
    "print(\"\\n📌 Findings Distribution:\\n\", df[\"findings\"].value_counts())"
   ]
  },
  {
   "cell_type": "code",
   "execution_count": 2,
   "metadata": {},
   "outputs": [
    {
     "name": "stdout",
     "output_type": "stream",
     "text": [
      "📌 Missing Values After Filling:\n",
      " case_id       0\n",
      "image_id      0\n",
      "projection    0\n",
      "findings      0\n",
      "dtype: int64\n",
      "\n",
      "📌 Updated Findings Distribution:\n",
      " findings\n",
      "Nodules       440\n",
      "No Nodules     23\n",
      "Name: count, dtype: int64\n"
     ]
    }
   ],
   "source": [
    "# Fill missing values in 'findings' with 'No Nodules'\n",
    "df[\"findings\"].fillna(\"No Nodules\", inplace=True)\n",
    "\n",
    "# Confirm no missing values remain\n",
    "print(\"📌 Missing Values After Filling:\\n\", df.isnull().sum())\n",
    "\n",
    "# Re-check distribution\n",
    "print(\"\\n📌 Updated Findings Distribution:\\n\", df[\"findings\"].value_counts())"
   ]
  }
 ],
 "metadata": {
  "kernelspec": {
   "display_name": "Python 3",
   "language": "python",
   "name": "python3"
  },
  "language_info": {
   "codemirror_mode": {
    "name": "ipython",
    "version": 3
   },
   "file_extension": ".py",
   "mimetype": "text/x-python",
   "name": "python",
   "nbconvert_exporter": "python",
   "pygments_lexer": "ipython3",
   "version": "3.11.5"
  }
 },
 "nbformat": 4,
 "nbformat_minor": 2
}
